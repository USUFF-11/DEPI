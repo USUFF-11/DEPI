{
 "cells": [
  {
   "cell_type": "markdown",
   "id": "e24ecd91",
   "metadata": {
    "papermill": {
     "duration": 0.015491,
     "end_time": "2022-02-14T14:47:17.126788",
     "exception": false,
     "start_time": "2022-02-14T14:47:17.111297",
     "status": "completed"
    },
    "tags": []
   },
   "source": [
    "# Introduction\n",
    "\n",
    "In the last tutorial, we learned how to select relevant data out of a DataFrame or Series. Plucking the right data out of our data representation is critical to getting work done, as we demonstrated in the exercises.\n",
    "\n",
    "However, the data does not always come out of memory in the format we want it in right out of the bat. Sometimes we have to do some more work ourselves to reformat it for the task at hand.  This tutorial will cover different operations we can apply to our data to get the input \"just right\". \n",
    "\n",
    "We'll use the Wine Magazine data for demonstration."
   ]
  },
  {
   "cell_type": "code",
   "execution_count": 6,
   "id": "f8565cd0",
   "metadata": {
    "_kg_hide-input": true,
    "collapsed": true,
    "execution": {
     "iopub.execute_input": "2022-02-14T14:47:17.165668Z",
     "iopub.status.busy": "2022-02-14T14:47:17.164754Z",
     "iopub.status.idle": "2022-02-14T14:47:18.852427Z",
     "shell.execute_reply": "2022-02-14T14:47:18.851688Z"
    },
    "jupyter": {
     "outputs_hidden": true
    },
    "papermill": {
     "duration": 1.711365,
     "end_time": "2022-02-14T14:47:18.852597",
     "exception": false,
     "start_time": "2022-02-14T14:47:17.141232",
     "status": "completed"
    },
    "tags": []
   },
   "outputs": [],
   "source": [
    "import pandas as pd\n",
    "import numpy as np\n",
    "reviews = pd.read_csv(\"winemag-data.csv\")"
   ]
  },
  {
   "cell_type": "code",
   "execution_count": null,
   "id": "738cb08d",
   "metadata": {
    "execution": {
     "iopub.execute_input": "2022-02-14T14:47:18.890775Z",
     "iopub.status.busy": "2022-02-14T14:47:18.889106Z",
     "iopub.status.idle": "2022-02-14T14:47:18.911652Z",
     "shell.execute_reply": "2022-02-14T14:47:18.912161Z"
    },
    "papermill": {
     "duration": 0.045152,
     "end_time": "2022-02-14T14:47:18.912341",
     "exception": false,
     "start_time": "2022-02-14T14:47:18.867189",
     "status": "completed"
    },
    "tags": []
   },
   "outputs": [],
   "source": [
    "reviews"
   ]
  },
  {
   "cell_type": "markdown",
   "id": "8e3d2e66",
   "metadata": {
    "papermill": {
     "duration": 0.015883,
     "end_time": "2022-02-14T14:47:18.945393",
     "exception": false,
     "start_time": "2022-02-14T14:47:18.929510",
     "status": "completed"
    },
    "tags": []
   },
   "source": [
    "# Summary functions\n",
    "\n",
    "Pandas provides many simple \"summary functions\" (not an official name) which restructure the data in some useful way. For example, consider the `describe()` method:"
   ]
  },
  {
   "cell_type": "code",
   "execution_count": 9,
   "id": "5bb5ba70",
   "metadata": {},
   "outputs": [
    {
     "data": {
      "text/html": [
       "<div>\n",
       "<style scoped>\n",
       "    .dataframe tbody tr th:only-of-type {\n",
       "        vertical-align: middle;\n",
       "    }\n",
       "\n",
       "    .dataframe tbody tr th {\n",
       "        vertical-align: top;\n",
       "    }\n",
       "\n",
       "    .dataframe thead th {\n",
       "        text-align: right;\n",
       "    }\n",
       "</style>\n",
       "<table border=\"1\" class=\"dataframe\">\n",
       "  <thead>\n",
       "    <tr style=\"text-align: right;\">\n",
       "      <th></th>\n",
       "      <th>Unnamed: 0</th>\n",
       "      <th>points</th>\n",
       "      <th>price</th>\n",
       "    </tr>\n",
       "  </thead>\n",
       "  <tbody>\n",
       "    <tr>\n",
       "      <th>count</th>\n",
       "      <td>129971.000000</td>\n",
       "      <td>129971.000000</td>\n",
       "      <td>120975.000000</td>\n",
       "    </tr>\n",
       "    <tr>\n",
       "      <th>mean</th>\n",
       "      <td>64985.000000</td>\n",
       "      <td>88.447138</td>\n",
       "      <td>35.363389</td>\n",
       "    </tr>\n",
       "    <tr>\n",
       "      <th>std</th>\n",
       "      <td>37519.540256</td>\n",
       "      <td>3.039730</td>\n",
       "      <td>41.022218</td>\n",
       "    </tr>\n",
       "    <tr>\n",
       "      <th>min</th>\n",
       "      <td>0.000000</td>\n",
       "      <td>80.000000</td>\n",
       "      <td>4.000000</td>\n",
       "    </tr>\n",
       "    <tr>\n",
       "      <th>25%</th>\n",
       "      <td>32492.500000</td>\n",
       "      <td>86.000000</td>\n",
       "      <td>17.000000</td>\n",
       "    </tr>\n",
       "    <tr>\n",
       "      <th>50%</th>\n",
       "      <td>64985.000000</td>\n",
       "      <td>88.000000</td>\n",
       "      <td>25.000000</td>\n",
       "    </tr>\n",
       "    <tr>\n",
       "      <th>75%</th>\n",
       "      <td>97477.500000</td>\n",
       "      <td>91.000000</td>\n",
       "      <td>42.000000</td>\n",
       "    </tr>\n",
       "    <tr>\n",
       "      <th>max</th>\n",
       "      <td>129970.000000</td>\n",
       "      <td>100.000000</td>\n",
       "      <td>3300.000000</td>\n",
       "    </tr>\n",
       "  </tbody>\n",
       "</table>\n",
       "</div>"
      ],
      "text/plain": [
       "          Unnamed: 0         points          price\n",
       "count  129971.000000  129971.000000  120975.000000\n",
       "mean    64985.000000      88.447138      35.363389\n",
       "std     37519.540256       3.039730      41.022218\n",
       "min         0.000000      80.000000       4.000000\n",
       "25%     32492.500000      86.000000      17.000000\n",
       "50%     64985.000000      88.000000      25.000000\n",
       "75%     97477.500000      91.000000      42.000000\n",
       "max    129970.000000     100.000000    3300.000000"
      ]
     },
     "execution_count": 9,
     "metadata": {},
     "output_type": "execute_result"
    }
   ],
   "source": [
    "reviews.describe()"
   ]
  },
  {
   "cell_type": "code",
   "execution_count": 10,
   "id": "befa8542",
   "metadata": {
    "execution": {
     "iopub.execute_input": "2022-02-14T14:47:18.983583Z",
     "iopub.status.busy": "2022-02-14T14:47:18.982939Z",
     "iopub.status.idle": "2022-02-14T14:47:18.995151Z",
     "shell.execute_reply": "2022-02-14T14:47:18.995659Z"
    },
    "papermill": {
     "duration": 0.034811,
     "end_time": "2022-02-14T14:47:18.995841",
     "exception": false,
     "start_time": "2022-02-14T14:47:18.961030",
     "status": "completed"
    },
    "tags": []
   },
   "outputs": [
    {
     "data": {
      "text/plain": [
       "count    129971.000000\n",
       "mean         88.447138\n",
       "std           3.039730\n",
       "min          80.000000\n",
       "25%          86.000000\n",
       "50%          88.000000\n",
       "75%          91.000000\n",
       "max         100.000000\n",
       "Name: points, dtype: float64"
      ]
     },
     "execution_count": 10,
     "metadata": {},
     "output_type": "execute_result"
    }
   ],
   "source": [
    "reviews.points.describe()"
   ]
  },
  {
   "cell_type": "markdown",
   "id": "66934e1d",
   "metadata": {
    "papermill": {
     "duration": 0.016318,
     "end_time": "2022-02-14T14:47:19.029391",
     "exception": false,
     "start_time": "2022-02-14T14:47:19.013073",
     "status": "completed"
    },
    "tags": []
   },
   "source": [
    "This method generates a high-level summary of the attributes of the given column. It is type-aware, meaning that its output changes based on the data type of the input. The output above only makes sense for numerical data; for string data here's what we get:"
   ]
  },
  {
   "cell_type": "code",
   "execution_count": null,
   "id": "ab65f623",
   "metadata": {
    "execution": {
     "iopub.execute_input": "2022-02-14T14:47:19.076060Z",
     "iopub.status.busy": "2022-02-14T14:47:19.067058Z",
     "iopub.status.idle": "2022-02-14T14:47:19.089702Z",
     "shell.execute_reply": "2022-02-14T14:47:19.090214Z"
    },
    "papermill": {
     "duration": 0.043808,
     "end_time": "2022-02-14T14:47:19.090392",
     "exception": false,
     "start_time": "2022-02-14T14:47:19.046584",
     "status": "completed"
    },
    "tags": []
   },
   "outputs": [],
   "source": [
    "reviews.taster_name.describe()"
   ]
  },
  {
   "cell_type": "markdown",
   "id": "43572af6",
   "metadata": {},
   "source": [
    "To get the Summary Statistics for all object columns (non-numeric) we can use the `include` parameter of the `describe()` method as follows:"
   ]
  },
  {
   "cell_type": "code",
   "execution_count": null,
   "id": "fd4ad52c",
   "metadata": {},
   "outputs": [],
   "source": [
    "reviews.describe(include=['O'])"
   ]
  },
  {
   "cell_type": "markdown",
   "id": "00e5c72d",
   "metadata": {
    "papermill": {
     "duration": 0.015583,
     "end_time": "2022-02-14T14:47:19.122469",
     "exception": false,
     "start_time": "2022-02-14T14:47:19.106886",
     "status": "completed"
    },
    "tags": []
   },
   "source": [
    "If you want to get some particular simple summary statistic about a column in a DataFrame or a Series, there is usually a helpful pandas function that makes it happen. \n",
    "\n",
    "For example, to see the mean of the points allotted (e.g. how well an averagely rated wine does), we can use the `mean()` function:"
   ]
  },
  {
   "cell_type": "code",
   "execution_count": 7,
   "id": "2441653c",
   "metadata": {
    "execution": {
     "iopub.execute_input": "2022-02-14T14:47:19.159183Z",
     "iopub.status.busy": "2022-02-14T14:47:19.158409Z",
     "iopub.status.idle": "2022-02-14T14:47:19.161482Z",
     "shell.execute_reply": "2022-02-14T14:47:19.161935Z"
    },
    "papermill": {
     "duration": 0.024317,
     "end_time": "2022-02-14T14:47:19.162111",
     "exception": false,
     "start_time": "2022-02-14T14:47:19.137794",
     "status": "completed"
    },
    "tags": []
   },
   "outputs": [
    {
     "name": "stdout",
     "output_type": "stream",
     "text": [
      "<class 'pandas.core.frame.DataFrame'>\n",
      "RangeIndex: 129971 entries, 0 to 129970\n",
      "Data columns (total 14 columns):\n",
      " #   Column                 Non-Null Count   Dtype  \n",
      "---  ------                 --------------   -----  \n",
      " 0   Unnamed: 0             129971 non-null  int64  \n",
      " 1   country                129908 non-null  object \n",
      " 2   description            129971 non-null  object \n",
      " 3   designation            92506 non-null   object \n",
      " 4   points                 129971 non-null  int64  \n",
      " 5   price                  120975 non-null  float64\n",
      " 6   province               129908 non-null  object \n",
      " 7   region_1               108724 non-null  object \n",
      " 8   region_2               50511 non-null   object \n",
      " 9   taster_name            103727 non-null  object \n",
      " 10  taster_twitter_handle  98758 non-null   object \n",
      " 11  title                  129971 non-null  object \n",
      " 12  variety                129970 non-null  object \n",
      " 13  winery                 129971 non-null  object \n",
      "dtypes: float64(1), int64(2), object(11)\n",
      "memory usage: 13.9+ MB\n"
     ]
    }
   ],
   "source": [
    "# Try it yourself\n",
    "reviews.info()"
   ]
  },
  {
   "cell_type": "markdown",
   "id": "c11b8383",
   "metadata": {
    "papermill": {
     "duration": 0.015815,
     "end_time": "2022-02-14T14:47:19.194310",
     "exception": false,
     "start_time": "2022-02-14T14:47:19.178495",
     "status": "completed"
    },
    "tags": []
   },
   "source": [
    "To see a list of unique values we can use the `unique()` function:"
   ]
  },
  {
   "cell_type": "code",
   "execution_count": 13,
   "id": "34fda53d",
   "metadata": {
    "execution": {
     "iopub.execute_input": "2022-02-14T14:47:19.242184Z",
     "iopub.status.busy": "2022-02-14T14:47:19.241183Z",
     "iopub.status.idle": "2022-02-14T14:47:19.244509Z",
     "shell.execute_reply": "2022-02-14T14:47:19.245047Z"
    },
    "papermill": {
     "duration": 0.035176,
     "end_time": "2022-02-14T14:47:19.245279",
     "exception": false,
     "start_time": "2022-02-14T14:47:19.210103",
     "status": "completed"
    },
    "tags": []
   },
   "outputs": [
    {
     "data": {
      "text/plain": [
       "array(['Kerin O’Keefe', 'Roger Voss', 'Paul Gregutt',\n",
       "       'Alexander Peartree', 'Michael Schachner', 'Anna Lee C. Iijima',\n",
       "       'Virginie Boone', 'Matt Kettmann', nan, 'Sean P. Sullivan',\n",
       "       'Jim Gordon', 'Joe Czerwinski', 'Anne Krebiehl\\xa0MW',\n",
       "       'Lauren Buzzeo', 'Mike DeSimone', 'Jeff Jenssen',\n",
       "       'Susan Kostrzewa', 'Carrie Dykes', 'Fiona Adams',\n",
       "       'Christina Pickard'], dtype=object)"
      ]
     },
     "execution_count": 13,
     "metadata": {},
     "output_type": "execute_result"
    }
   ],
   "source": [
    "# Try it yourself\n",
    "reviews.taster_name.unique()"
   ]
  },
  {
   "cell_type": "markdown",
   "id": "2b39aca6",
   "metadata": {},
   "source": [
    "To count the unique values we can use the `nunique()` function:"
   ]
  },
  {
   "cell_type": "code",
   "execution_count": null,
   "id": "1a568e0d",
   "metadata": {},
   "outputs": [],
   "source": [
    "reviews.taster_name.nunique()"
   ]
  },
  {
   "cell_type": "markdown",
   "id": "7db91edc",
   "metadata": {
    "papermill": {
     "duration": 0.016857,
     "end_time": "2022-02-14T14:47:19.279424",
     "exception": false,
     "start_time": "2022-02-14T14:47:19.262567",
     "status": "completed"
    },
    "tags": []
   },
   "source": [
    "To see a list of unique values _and_ how often they occur in the dataset, we can use the `value_counts()` method:"
   ]
  },
  {
   "cell_type": "code",
   "execution_count": 14,
   "id": "2a43cac4",
   "metadata": {
    "execution": {
     "iopub.execute_input": "2022-02-14T14:47:19.318014Z",
     "iopub.status.busy": "2022-02-14T14:47:19.317127Z",
     "iopub.status.idle": "2022-02-14T14:47:19.332048Z",
     "shell.execute_reply": "2022-02-14T14:47:19.332460Z"
    },
    "papermill": {
     "duration": 0.035377,
     "end_time": "2022-02-14T14:47:19.332624",
     "exception": false,
     "start_time": "2022-02-14T14:47:19.297247",
     "status": "completed"
    },
    "tags": []
   },
   "outputs": [
    {
     "data": {
      "text/plain": [
       "taster_name\n",
       "Roger Voss            25514\n",
       "Michael Schachner     15134\n",
       "Kerin O’Keefe         10776\n",
       "Virginie Boone         9537\n",
       "Paul Gregutt           9532\n",
       "Matt Kettmann          6332\n",
       "Joe Czerwinski         5147\n",
       "Sean P. Sullivan       4966\n",
       "Anna Lee C. Iijima     4415\n",
       "Jim Gordon             4177\n",
       "Anne Krebiehl MW       3685\n",
       "Lauren Buzzeo          1835\n",
       "Susan Kostrzewa        1085\n",
       "Mike DeSimone           514\n",
       "Jeff Jenssen            491\n",
       "Alexander Peartree      415\n",
       "Carrie Dykes            139\n",
       "Fiona Adams              27\n",
       "Christina Pickard         6\n",
       "Name: count, dtype: int64"
      ]
     },
     "execution_count": 14,
     "metadata": {},
     "output_type": "execute_result"
    }
   ],
   "source": [
    "# Try it yourself\n",
    "reviews.taster_name.value_counts()"
   ]
  },
  {
   "cell_type": "markdown",
   "id": "c834c22c",
   "metadata": {
    "papermill": {
     "duration": 0.018017,
     "end_time": "2022-02-14T14:47:31.835355",
     "exception": false,
     "start_time": "2022-02-14T14:47:31.817338",
     "status": "completed"
    },
    "tags": []
   },
   "source": [
    "Pandas provides many common mapping operations as built-ins. For example, here's a faster way of remeaning our points column:"
   ]
  },
  {
   "cell_type": "code",
   "execution_count": null,
   "id": "b4764c4f",
   "metadata": {
    "execution": {
     "iopub.execute_input": "2022-02-14T14:47:31.965237Z",
     "iopub.status.busy": "2022-02-14T14:47:31.964423Z",
     "iopub.status.idle": "2022-02-14T14:47:32.009164Z",
     "shell.execute_reply": "2022-02-14T14:47:32.009681Z"
    },
    "papermill": {
     "duration": 0.069146,
     "end_time": "2022-02-14T14:47:32.009852",
     "exception": false,
     "start_time": "2022-02-14T14:47:31.940706",
     "status": "completed"
    },
    "tags": []
   },
   "outputs": [],
   "source": [
    "reviews.country + \" - \" + reviews.region_1"
   ]
  },
  {
   "cell_type": "markdown",
   "id": "7dd76013",
   "metadata": {},
   "source": [
    "These operators are faster than `map()` or `apply()` because they use speed ups built into pandas. All of the standard Python operators (>, <, ==, and so on) work in this manner.\n",
    "\n",
    "However, they are not as flexible as `map()` or `apply()`, which can do more advanced things, like applying conditional logic, which cannot be done with addition and subtraction alone."
   ]
  },
  {
   "cell_type": "markdown",
   "id": "d2625152",
   "metadata": {},
   "source": [
    "# Your turn"
   ]
  }
 ],
 "metadata": {
  "kernelspec": {
   "display_name": "base",
   "language": "python",
   "name": "python3"
  },
  "language_info": {
   "codemirror_mode": {
    "name": "ipython",
    "version": 3
   },
   "file_extension": ".py",
   "mimetype": "text/x-python",
   "name": "python",
   "nbconvert_exporter": "python",
   "pygments_lexer": "ipython3",
   "version": "3.12.7"
  },
  "papermill": {
   "default_parameters": {},
   "duration": 24.47704,
   "end_time": "2022-02-14T14:47:32.716849",
   "environment_variables": {},
   "exception": null,
   "input_path": "__notebook__.ipynb",
   "output_path": "__notebook__.ipynb",
   "parameters": {},
   "start_time": "2022-02-14T14:47:08.239809",
   "version": "2.3.3"
  }
 },
 "nbformat": 4,
 "nbformat_minor": 5
}
